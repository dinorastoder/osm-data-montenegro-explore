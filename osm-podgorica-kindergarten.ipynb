{
 "cells": [
  {
   "cell_type": "markdown",
   "metadata": {},
   "source": [
    "# OpenStreetMap (OSM) data for Podgorica, Montenegro"
   ]
  },
  {
   "cell_type": "code",
   "execution_count": null,
   "metadata": {},
   "outputs": [],
   "source": [
    "# Loading of packages required for this Notebook\n",
    "\n",
    "%pip install quackosm folium matplotlib mapclassify ipywidgets --quiet"
   ]
  },
  {
   "cell_type": "markdown",
   "metadata": {},
   "source": [
    "### Finding OSM data for area of Podgorica (Montenegro)"
   ]
  },
  {
   "cell_type": "code",
   "execution_count": null,
   "metadata": {},
   "outputs": [],
   "source": [
    "import quackosm as qosm\n",
    "\n",
    "# Finding geometry of Podgorica\n",
    "area_podgorica = qosm.geocode_to_geometry(\"Capital Podgorica, Montenegro\")\n",
    "area_podgorica"
   ]
  },
  {
   "cell_type": "code",
   "execution_count": null,
   "metadata": {},
   "outputs": [],
   "source": [
    "# Find suitable PBF file(s) of OSM that covers Podgorica geometry \n",
    "# And filter out OSM features only for that area\n",
    "gdf = qosm.convert_geometry_to_geodataframe(area_podgorica)\n",
    "gdf"
   ]
  },
  {
   "cell_type": "markdown",
   "metadata": {},
   "source": [
    "### Explore extracted OSM features"
   ]
  },
  {
   "cell_type": "code",
   "execution_count": null,
   "metadata": {},
   "outputs": [],
   "source": [
    "\n",
    "import matplotlib.pyplot as plt\n",
    "import matplotlib.patches as mpatches\n",
    "import geopandas as gpd\n",
    "\n",
    "fig = plt.figure(figsize=(10, 10))\n",
    "ax = fig.subplots()\n",
    "\n",
    "gdf.plot(ax=ax, markersize=1, zorder=1, alpha=0.4)\n",
    "gdf.boundary.plot(ax=ax, markersize=0, zorder=1, alpha=0.8)\n",
    "gpd.GeoSeries([area_podgorica], crs=4326).plot(\n",
    "    ax=ax,\n",
    "    color=(0, 0, 0, 0),\n",
    "    zorder=2,\n",
    "    hatch=\"///\",\n",
    "    edgecolor=\"orange\",\n",
    "    linewidth=1.5,\n",
    "    \n",
    ")\n",
    "\n",
    "blue_patch = mpatches.Patch(color=\"C0\", alpha=0.8, label=\"Extracted OSM features\")\n",
    "orange_patch = mpatches.Patch(\n",
    "    facecolor=(0, 0, 0, 0), edgecolor=\"orange\", hatch=\"///\", linewidth=1.5, label=\"Podgorica Geometry filter\"\n",
    ")\n",
    "ax.legend(handles=[blue_patch, orange_patch], loc=\"lower right\")\n",
    "plt.show()"
   ]
  },
  {
   "cell_type": "markdown",
   "metadata": {},
   "source": [
    "### Explore facilities of education in Podgorica"
   ]
  },
  {
   "cell_type": "code",
   "execution_count": null,
   "metadata": {},
   "outputs": [],
   "source": [
    "import geopandas as gpd\n",
    "\n",
    "# amenity=bench\n",
    "filter_1 = {\"amenity\": \"bench\"}\n",
    "filter_vrtic ={\"building\": \"kindergarten\", \"amenity\": \"kindergarten\"}\n",
    "filter_school ={\"building\": \"school\", \"amenity\": \"school\"}\n",
    "filter_university ={\"building\": \"university\", \"amenity\": \"university\"}\n",
    "\n",
    "\n",
    "gdf = qosm.convert_geometry_to_geodataframe(area_podgorica, tags_filter=filter_vrtic, verbosity_mode=\"transient\", keep_all_tags=True, explode_tags=True)\n",
    "gdf1 = qosm.convert_geometry_to_geodataframe(area_podgorica, tags_filter=filter_school, verbosity_mode=\"transient\", keep_all_tags=True, explode_tags=True)\n",
    "gdf2 = qosm.convert_geometry_to_geodataframe(area_podgorica, tags_filter=filter_university, verbosity_mode=\"transient\", keep_all_tags=True, explode_tags=True)\n",
    "\n",
    "\n",
    "#gdf = qosm.convert_geometry_to_geodataframe(geometry, tags_filter={\"highway\": \"tertiary\", \"building\": \"school\"}, verbosity_mode=\"silent\")\n",
    "#gdf = qosm.convert_pbf_to_geodataframe(tags_filter={\"admin_level\": \"6\", \"amenity\": \"bench\"}, pbf_path=\"files/geofabrik_europe_montenegro.osm.pbf\")\n",
    "\n",
    "\n",
    "m = gdf.explore(color=\"orangered\", tiles=\"CartoDB positron\")\n",
    "m2 = gdf1.explore(color=\"blue\", m=m)\n",
    "m3 = gdf2.explore(color=\"pink\", m=m)\n",
    "\n",
    "\n",
    "\n",
    "\n",
    "gpd.GeoSeries([geometry], crs=4326).boundary.explore(m=m)"
   ]
  }
 ],
 "metadata": {
  "kernelspec": {
   "display_name": ".venv",
   "language": "python",
   "name": "python3"
  },
  "language_info": {
   "codemirror_mode": {
    "name": "ipython",
    "version": 3
   },
   "file_extension": ".py",
   "mimetype": "text/x-python",
   "name": "python",
   "nbconvert_exporter": "python",
   "pygments_lexer": "ipython3",
   "version": "3.10.12"
  }
 },
 "nbformat": 4,
 "nbformat_minor": 2
}
